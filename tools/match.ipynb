{
  "cells": [
    {
      "attachments": {},
      "cell_type": "markdown",
      "metadata": {
        "colab_type": "text",
        "id": "view-in-github"
      },
      "source": [
        "<a href=\"https://colab.research.google.com/github/yuanjian-org/app/blob/main/tools/match.ipynb\" target=\"_parent\"><img src=\"https://colab.research.google.com/assets/colab-badge.svg\" alt=\"Open In Colab\"/></a>"
      ]
    },
    {
      "cell_type": "code",
      "execution_count": null,
      "metadata": {},
      "outputs": [],
      "source": []
    },
    {
      "attachments": {},
      "cell_type": "markdown",
      "metadata": {},
      "source": [
        "# Introduction\n",
        "\n",
        "The algorithm for the initial matching in the [mentee-mentor matching process](https://mentors.org.cn/s/matchmaking). It finds the best many-to-many matching given mentee preferences, mentor capacity constraints, and other constraints.\n",
        "\n",
        "## Input\n",
        "\n",
        "`matching_scores_with_dummy.csv`: Mentee preference score matrics. A score ranges between -5 (least preferred) and 5 (most preferred). The dummy mentor is necessary only when mentor supply is lower than demand.\n",
        "\n",
        "```\n",
        "  mentee,MentorM,MentorN, ... ,Dummy\n",
        "  MenteeE,0,-5, ... ,0\n",
        "  MenteeF,2,4, ... ,0\n",
        "\n",
        "```\n",
        "\n",
        "`mentor_capacities_with_dummy.csv`: Max number of mentees a mentor is willing to take. All columns but `中文姓名` and `学生容量` are ignored.\n",
        "\n",
        "```\n",
        "  中文姓名,学生容量\n",
        "  MentorM,2\n",
        "  MentorN,4\n",
        "  Dummy,3\n",
        "```\n",
        "\n",
        "## Output\n",
        "\n",
        "```\n",
        "  mentor=MentorM,assigned_mentees=MenteeE,MenteeF, ...\n",
        "  mentor=MentorN,assigned_mentees=MenteeF, ...\n",
        "  mentee=MenteeE,assigned_mentors=MentorM, ...\n",
        "  mentor=MenteeF,assigned_mentors=MenteeM,MentorN ...\n",
        "```  "
      ]
    },
    {
      "cell_type": "code",
      "execution_count": null,
      "metadata": {
        "id": "PbJt-T4tAUXc"
      },
      "outputs": [],
      "source": [
        "!pip3 install ortools"
      ]
    },
    {
      "attachments": {},
      "cell_type": "markdown",
      "metadata": {
        "id": "MKk8OhhAJc0X"
      },
      "source": [
        "# Configuration"
      ]
    },
    {
      "cell_type": "code",
      "execution_count": null,
      "metadata": {
        "id": "rlXpfRjiJfq5"
      },
      "outputs": [],
      "source": [
        "import dataclasses\n",
        "from typing import Dict, List, Mapping, Sequence, Tuple\n",
        "\n",
        "import pandas as pd\n",
        "import numpy as np\n",
        "import numpy.ma as ma\n",
        "import scipy.stats\n",
        "\n",
        "# Constants.\n",
        "# If true, remove mean and stdev.\n",
        "_NORMALIZE_DATA = True\n",
        "\n",
        "# If true, when removing mean and stdev, ignore the highest scores when\n",
        "# computing the statistics and leave these scores unmodified.\n",
        "_IGNORE_HIGHEST_SCORES = True\n",
        "_HIGHEST_SCORE_CUTOFF = 3\n",
        "\n",
        "# If true, for a mentee, among the mentors with scores higher than this,\n",
        "# one of the mentors must be included in the matched pool.\n",
        "MUST_MATCH_HIGHEST_SCORES = True\n",
        "MUST_MATCH_SCORE_CUTOFF = _HIGHEST_SCORE_CUTOFF\n",
        "\n",
        "# Key: Mentor capacity for final-matched mentees, Value: Mentor capacity for\n",
        "# chat slots.\n",
        "MENTOR_CAPACITY_UPPER_BOUND: Mapping[int, int] = {\n",
        "    1: 4,\n",
        "    2: 4,\n",
        "    3: 2, # for dummy mentors. Dummies are necessary when mentor supply are lower than demand\n",
        "}\n",
        "DEFAULT_MENTOR_CAPACITY_UPPER_BOUND = 3\n",
        "MENTEE_DEMAND_UPPER_BOUND = 3\n",
        "MENTEE_DEMAND_LOWER_BOUND = 3\n",
        "\n",
        "BANNED_SCORE = -5\n",
        "\n",
        "# Higher offset encourages more matches. Setting to -10, for example,\n",
        "# matches as few pairs as possible as long as the constraints are satisfied.\n",
        "# This is the regularization term.\n",
        "_SCORE_OBJ_OFFSET = 0.0\n",
        "\n",
        "_SCORES_FILENAME = '/content/matching_scores_with_dummy.csv'\n",
        "_CAPACITY_FILENAME = '/content/mentor_capacities_with_dummy.csv'\n",
        "_CAPACITY_COLUMN_NAME = '学生容量'"
      ]
    },
    {
      "cell_type": "code",
      "execution_count": null,
      "metadata": {},
      "outputs": [],
      "source": []
    },
    {
      "cell_type": "code",
      "execution_count": null,
      "metadata": {
        "id": "CWxUrf2NFf5y"
      },
      "outputs": [],
      "source": [
        "scores_df: pd.DataFrame = pd.read_csv(_SCORES_FILENAME, index_col=0)\n",
        "\n",
        "mentors, mentor_names = zip(*enumerate(scores_df.columns.to_list()))\n",
        "mentees, mentee_names = zip(*enumerate(scores_df.index.to_list()))\n",
        "_MENTOR_ID_TO_NAME: Mapping[int, str] = {j: name for j, name in zip(mentors, mentor_names)}\n",
        "_MENTEE_ID_TO_NAME: Mapping[int, str] = {i: name for i, name in zip(mentees, mentee_names)}\n",
        "\n",
        "@dataclasses.dataclass(order=False, frozen=True)\n",
        "class Pair:\n",
        "  \"\"\"Pair of mentor, mentee.\"\"\"\n",
        "  mentor: int\n",
        "  mentee: int\n",
        "\n",
        "scores_matrix: np.ndarray = scores_df.to_numpy(dtype=float)\n",
        "if _NORMALIZE_DATA:\n",
        "  if _IGNORE_HIGHEST_SCORES:\n",
        "    scores_matrix_ma = ma.masked_where(\n",
        "        (scores_matrix >= _HIGHEST_SCORE_CUTOFF) | (scores_matrix == BANNED_SCORE),\n",
        "        scores_matrix, copy=False)\n",
        "  else:\n",
        "    scores_matrix_ma = ma.masked_where(\n",
        "        scores_matrix == BANNED_SCORE, scores_matrix, copy=False)\n",
        "  scores_matrix_ma -= scores_matrix_ma.mean(axis=1, keepdims=True)\n",
        "  scores_matrix_ma /= scores_matrix_ma.std(axis=1, ddof=1, keepdims=True)\n",
        "  scores_matrix = np.nan_to_num(scores_matrix)  # replace nan with 0\n",
        "scores: Dict[Pair, float] = {\n",
        "    Pair(mentee=i, mentor=j): scores_matrix[i][j]\n",
        "    for i in range(len(mentees)) for j in range(len(mentors))}\n",
        "\n",
        "print(f\"mentors={mentor_names}\")\n",
        "print(f\"mentees={mentee_names}\")\n",
        "if _NORMALIZE_DATA:\n",
        "  print(f\"###### NORMALIZED_SCORES ######\\n{scores_matrix}\")\n",
        "print(\"###### SCORES TABLE ######\")\n",
        "scores_df"
      ]
    },
    {
      "cell_type": "code",
      "execution_count": null,
      "metadata": {
        "id": "vFSQm8tj3NG2"
      },
      "outputs": [],
      "source": [
        "capacity_df: pd.DataFrame = pd.read_csv(_CAPACITY_FILENAME, index_col='中文姓名')\n",
        "\n",
        "mentor_id_to_capacity: Dict[str, int] = {}\n",
        "for mentor, mentor_name in zip(mentors, mentor_names):\n",
        "  mentor_id_to_capacity[mentor] = capacity_df.loc[mentor_name][_CAPACITY_COLUMN_NAME]\n",
        "  print(f'{mentor_name=}, capacity={mentor_id_to_capacity[mentor]}')"
      ]
    },
    {
      "attachments": {},
      "cell_type": "markdown",
      "metadata": {
        "id": "0JPRAMN2IvXF"
      },
      "source": [
        "# Solve"
      ]
    },
    {
      "cell_type": "code",
      "execution_count": null,
      "metadata": {
        "id": "DPrRfCvaS6wa"
      },
      "outputs": [],
      "source": [
        "from ortools.sat.python import cp_model\n",
        "\n",
        "\n",
        "def ModelAssignment(\n",
        "    mentors: Sequence[int],\n",
        "    mentees: Sequence[int],\n",
        "    scores: Mapping[Pair, float]\n",
        ") -> Tuple[cp_model.CpModel, Mapping[Pair, cp_model.IntVar]]:\n",
        "  \"\"\"Models assignment problem and returns model and decision variables.\"\"\"\n",
        "  # Create the model.\n",
        "  model = cp_model.CpModel()\n",
        "\n",
        "  # Create the variables.\n",
        "  pair_to_var: Mapping[Pair, cp_model.IntVar] = {}\n",
        "  for pair, score in scores.items():\n",
        "    # Binary decision variables, 1 if mentor is matched with mentee.\n",
        "    upper_bound = 1 if scores[pair] != BANNED_SCORE else 0\n",
        "    var = model.NewIntVar(\n",
        "        0, upper_bound, f'mentor_{pair.mentor}_mentee_{pair.mentee}')\n",
        "    pair_to_var[pair] = var\n",
        "\n",
        "  # Create the constraints.\n",
        "  mentor_to_vars: Mapping[int, Sequence[cp_model.IntVar]] = {\n",
        "      mentor: [] for mentor in mentors}\n",
        "  mentee_to_vars: Mapping[int, Sequence[cp_model.IntVar]] = {\n",
        "      mentee: [] for mentee in mentees}\n",
        "  mentee_to_must_match: Mapping[int, Sequence[cp_model.IntVar]] = {\n",
        "      mentee: [] for mentee in mentees}\n",
        "  for pair, var in pair_to_var.items():\n",
        "    mentor_to_vars[pair.mentor].append(var)\n",
        "    mentee_to_vars[pair.mentee].append(var)\n",
        "    if MUST_MATCH_HIGHEST_SCORES and scores[pair] >= MUST_MATCH_SCORE_CUTOFF:\n",
        "      mentee_to_must_match[pair.mentee].append(var)\n",
        "  # Mentor capacity constraint: Every mentor paired with <= UB mentees.\n",
        "  # Key: mentor ID. Value: all variables that contains to mentor ID.\n",
        "  for mentor, vars in mentor_to_vars.items():\n",
        "    model.Add(sum(vars) <= MENTOR_CAPACITY_UPPER_BOUND.get(\n",
        "        mentor_id_to_capacity[mentor], DEFAULT_MENTOR_CAPACITY_UPPER_BOUND))\n",
        "  # Mentee demand constraint: Every mentee paired with >= LB mentors\n",
        "  # and <= UB mentors.\n",
        "  # Key: mentor ID. Value: all variables that contains to mentor ID.\n",
        "  for mentee, vars in mentee_to_vars.items():\n",
        "    model.Add(sum(vars) >= MENTEE_DEMAND_LOWER_BOUND)\n",
        "    model.Add(sum(vars) <= MENTEE_DEMAND_UPPER_BOUND)\n",
        "  # For a mentee, among the mentors with scores higher than this,\n",
        "  # one of the mentors must be included in the matched pool.\n",
        "  for mentee, vars in mentee_to_must_match.items():\n",
        "    if vars:\n",
        "      model.Add(sum(vars) >= 1)\n",
        "\n",
        "  # Create the objective.\n",
        "  var_to_score = [(pair_to_var[pair], score + _SCORE_OBJ_OFFSET) for pair, score in scores.items()]\n",
        "  objective_vars, objective_coefficients = zip(*var_to_score)\n",
        "  model.Maximize(cp_model.LinearExpr.WeightedSum(\n",
        "      expressions=objective_vars, coefficients=objective_coefficients))\n",
        "\n",
        "  return model, pair_to_var\n",
        "\n",
        "def SolveAssignment(model: cp_model.CpModel) -> Tuple[cp_model.CpSolver, str]:\n",
        "  \"\"\"Solves assignment problem.\"\"\"\n",
        "  # Creates a solver and solves the model.\n",
        "  solver = cp_model.CpSolver()\n",
        "  solver.parameters.random_seed = 123\n",
        "\n",
        "  # Sets a time limit of 10 seconds.\n",
        "  solver.parameters.max_time_in_seconds = 10.0\n",
        "\n",
        "  status = solver.Solve(model)\n",
        "  status_name = solver.StatusName(status)\n",
        "  if status != cp_model.OPTIMAL:\n",
        "    print(f\"Non optimal solver status: {status_name=}\")\n",
        "  return solver, status_name\n"
      ]
    },
    {
      "cell_type": "code",
      "execution_count": null,
      "metadata": {
        "id": "QozkzQzwcdaA"
      },
      "outputs": [],
      "source": [
        "# Create a constraint programming problem.\n",
        "model, pair_to_var = ModelAssignment(\n",
        "    mentors=mentors, mentees=mentees, scores=scores)\n",
        "# Solve the problem.\n",
        "solver, status_name = SolveAssignment(model=model)\n",
        "# Print the solution.\n",
        "print('\\nStatistics')\n",
        "print(f'  status   : {status_name}')\n",
        "print(f'  conflicts: {solver.NumConflicts()}')\n",
        "print(f'  branches : {solver.NumBranches()}')\n",
        "print(f'  wall time: {solver.WallTime()} s')\n",
        "\n",
        "if status_name != 'FEASIBLE' and status_name != 'OPTIMAL':\n",
        "  raise ValueError(f'Unexpected: Solver state is {status_name}')\n",
        "  \n",
        "mentor_view: Mapping[int, Sequence[int]] = {mentor: [] for mentor in mentors}\n",
        "mentee_view: Mapping[int, Sequence[int]] = {mentee: [] for mentee in mentees}\n",
        "for pair, var in pair_to_var.items():\n",
        "  assign_decision = solver.Value(var)\n",
        "  if assign_decision == 1:\n",
        "    mentor_view[pair.mentor].append(pair.mentee)\n",
        "    mentee_view[pair.mentee].append(pair.mentor)\n",
        "for mentor, assigned_mentees in mentor_view.items():\n",
        "  print(\n",
        "      f\"mentor={_MENTOR_ID_TO_NAME[mentor]}, \"\n",
        "      f\"assigned_mentees={[_MENTEE_ID_TO_NAME[mentee] for mentee in assigned_mentees]}\")\n",
        "for mentee, assigned_mentors in mentee_view.items():\n",
        "  print(\n",
        "      f\"mentee={_MENTEE_ID_TO_NAME[mentee]}, \"\n",
        "      f\"assigned_mentors={[_MENTOR_ID_TO_NAME[mentor] for mentor in assigned_mentors]}\")\n",
        "\n"
      ]
    },
    {
      "cell_type": "code",
      "execution_count": null,
      "metadata": {
        "id": "zmNENJ21IGDr"
      },
      "outputs": [],
      "source": []
    }
  ],
  "metadata": {
    "colab": {
      "include_colab_link": true,
      "provenance": []
    },
    "kernelspec": {
      "display_name": "Python 3",
      "name": "python3"
    },
    "language_info": {
      "codemirror_mode": {
        "name": "ipython",
        "version": 3
      },
      "file_extension": ".py",
      "mimetype": "text/x-python",
      "name": "python",
      "nbconvert_exporter": "python",
      "pygments_lexer": "ipython3",
      "version": "3.9.16"
    }
  },
  "nbformat": 4,
  "nbformat_minor": 0
}
